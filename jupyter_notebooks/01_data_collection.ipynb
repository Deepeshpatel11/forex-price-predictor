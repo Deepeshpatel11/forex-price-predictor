{
  "cells": [
    {
      "cell_type": "markdown",
      "metadata": {
        "id": "0aStgWSO0E0E"
      },
      "source": [
        "# 01 Data Collection – Forex Price Prediction Project"
      ]
    },
    {
      "cell_type": "markdown",
      "metadata": {
        "id": "1eLEkw5O0ECa"
      },
      "source": [
        "## Objectives\n",
        "\n",
        "* Fetch historical OHLCV (Open, High, Low, Close, Volume) data for 10 selected forex pairs using the OANDA API.\n",
        "* Save the raw data in CSV format in the `data/raw/` directory for further processing.\n",
        "\n",
        "## Inputs\n",
        "\n",
        "* OANDA API Key stored securely in `.env` file.\n",
        "* Selected forex pairs:\n",
        "  1. GBP/USD  \n",
        "  2. EUR/GBP  \n",
        "  3. EUR/USD  \n",
        "  4. AUD/USD  \n",
        "  5. NZD/USD  \n",
        "  6. USD/JPY  \n",
        "  7. USD/SGD  \n",
        "  8. USD/CHF  \n",
        "  9. USD/CAD  \n",
        "  10. GBP/CAD\n",
        "* Desired number of historical candles per pair and timeframe (e.g., last 1000 H4 candles).\n",
        "\n",
        "## Outputs\n",
        "\n",
        "* 10 CSV files stored in `data/raw/` named as:\n",
        "  * GBP_USD_forex_data.csv\n",
        "  * EUR_GBP_forex_data.csv\n",
        "  * EUR_USD__forex_data.csv\n",
        "  * AUD_USD_forex_data.csv\n",
        "  * NZD_USD_forex_data.csv\n",
        "  * USD_JPY_forex_data.csv\n",
        "  * USD_SGD_forex_data.csv\n",
        "  * USD_CHF_forex_data.csv\n",
        "  * USD_CAD_forex_data.csv\n",
        "  * GBP_CAD_forex_data.csv \n",
        "\n",
        "* Each CSV contains:\n",
        "  - `timestamp`  \n",
        "  - `open`  \n",
        "  - `high`  \n",
        "  - `low`  \n",
        "  - `close`  \n",
        "  - `volume`  \n",
        "\n",
        "## Additional Comments\n",
        "\n",
        "* This notebook covers the **Data Collection** step of CRISP-DM.\n",
        "* The raw files will be used in **02_data_cleaning_feature_engineering.ipynb** for feature creation.\n",
        "* Ensure that the `.env` file with `OANDA_API_KEY` is correctly configured before running this notebook.\n"
      ]
    },
    {
      "cell_type": "markdown",
      "metadata": {
        "id": "9uWZXH9LwoQg"
      },
      "source": [
        "---"
      ]
    },
    {
      "cell_type": "markdown",
      "metadata": {
        "id": "cqP-UeN-z3i2"
      },
      "source": [
        "# Change working directory"
      ]
    },
    {
      "cell_type": "markdown",
      "metadata": {
        "id": "aOGIGS-uz3i2"
      },
      "source": [
        "We need to change the working directory from its current folder to its parent folder\n",
        "* We access the current directory with os.getcwd()"
      ]
    },
    {
      "cell_type": "code",
      "execution_count": null,
      "metadata": {
        "id": "wZfF_j-Bz3i4",
        "outputId": "66943449-1436-4c3d-85c7-b85f9f78349b"
      },
      "outputs": [],
      "source": [
        "import os\n",
        "current_dir = os.getcwd()\n",
        "current_dir"
      ]
    },
    {
      "cell_type": "markdown",
      "metadata": {
        "id": "9MWW8E7lz3i7"
      },
      "source": [
        "We want to make the parent of the current directory the new current directory\n",
        "* os.path.dirname() gets the parent directory\n",
        "* os.chir() defines the new current directory"
      ]
    },
    {
      "cell_type": "code",
      "execution_count": null,
      "metadata": {
        "id": "TwHsQRWjz3i9",
        "outputId": "86849db3-cd2f-4cc5-ebb8-2d0caafa1a2c"
      },
      "outputs": [],
      "source": [
        "import os\n",
        "\n",
        "# Change to project root if running notebook from 'notebooks/' folder\n",
        "if os.getcwd().split(\"/\")[-1] == \"notebooks\":\n",
        "    os.chdir(\"..\")\n",
        "\n",
        "print(\"Current working directory:\", os.getcwd())\n"
      ]
    },
    {
      "cell_type": "markdown",
      "metadata": {
        "id": "M_xPk_Ijz3i-"
      },
      "source": [
        "Confirm the new current directory"
      ]
    },
    {
      "cell_type": "code",
      "execution_count": null,
      "metadata": {
        "id": "vz3S-_kjz3jA",
        "outputId": "00b79ae4-75d0-4a96-d193-ac9ef9847ea2"
      },
      "outputs": [],
      "source": [
        "current_dir = os.getcwd()\n",
        "current_dir"
      ]
    },
    {
      "cell_type": "markdown",
      "metadata": {
        "id": "-mavJ8DibrcQ"
      },
      "source": [
        "# Import Libraries & Load API Key"
      ]
    },
    {
      "cell_type": "markdown",
      "metadata": {},
      "source": [
        "Purpose: Import dependencies and load OANDA API key securely."
      ]
    },
    {
      "cell_type": "code",
      "execution_count": null,
      "metadata": {},
      "outputs": [],
      "source": [
        "import os\n",
        "import pandas as pd\n",
        "from dotenv import load_dotenv\n",
        "\n",
        "# Load environment variables from .env file\n",
        "load_dotenv()\n",
        "\n",
        "# Retrieve OANDA API key\n",
        "OANDA_API_KEY = os.getenv(\"OANDA_API_KEY\")\n",
        "\n",
        "# Verify that the key is loaded\n",
        "print(\"OANDA_API_KEY loaded:\", bool(OANDA_API_KEY))\n"
      ]
    },
    {
      "cell_type": "markdown",
      "metadata": {},
      "source": [
        "## Define Forex Pairs for Data Collection\n",
        "\n",
        "We will collect **H4 (4-hour)** candle data for the following 10 forex pairs.  \n",
        "The raw data will be saved in the `data/raw/` folder for future preprocessing.\n"
      ]
    },
    {
      "cell_type": "markdown",
      "metadata": {
        "id": "ZY3l0-AxO93d"
      },
      "source": [
        "---"
      ]
    },
    {
      "cell_type": "markdown",
      "metadata": {
        "id": "uFQo3ycuO-v6"
      },
      "source": [
        "# Section 2"
      ]
    },
    {
      "cell_type": "markdown",
      "metadata": {},
      "source": [
        "Section 2 content"
      ]
    },
    {
      "cell_type": "code",
      "execution_count": null,
      "metadata": {},
      "outputs": [],
      "source": []
    },
    {
      "cell_type": "markdown",
      "metadata": {},
      "source": [
        "---"
      ]
    },
    {
      "cell_type": "markdown",
      "metadata": {},
      "source": [
        "NOTE"
      ]
    },
    {
      "cell_type": "markdown",
      "metadata": {},
      "source": [
        "* You may add as many sections as you want, as long as it supports your project workflow.\n",
        "* All notebook's cells should be run top-down (you can't create a dynamic wherein a given point you need to go back to a previous cell to execute some task, like go back to a previous cell and refresh a variable content)"
      ]
    },
    {
      "cell_type": "markdown",
      "metadata": {},
      "source": [
        "---"
      ]
    },
    {
      "cell_type": "markdown",
      "metadata": {
        "id": "ltNetd085qHf"
      },
      "source": [
        "# Push files to Repo"
      ]
    },
    {
      "cell_type": "markdown",
      "metadata": {},
      "source": [
        "* In case you don't need to push files to Repo, you may replace this section with \"Conclusions and Next Steps\" and state your conclusions and next steps."
      ]
    },
    {
      "cell_type": "code",
      "execution_count": null,
      "metadata": {
        "id": "aKlnIozA4eQO",
        "outputId": "fd09bc1f-adb1-4511-f6ce-492a6af570c0"
      },
      "outputs": [],
      "source": [
        "import os\n",
        "try:\n",
        "  # create here your folder\n",
        "  # os.makedirs(name='')\n",
        "except Exception as e:\n",
        "  print(e)\n"
      ]
    }
  ],
  "metadata": {
    "accelerator": "GPU",
    "colab": {
      "name": "Data Practitioner Jupyter Notebook.ipynb",
      "provenance": [],
      "toc_visible": true
    },
    "kernelspec": {
      "display_name": "3.12.1",
      "language": "python",
      "name": "python3"
    },
    "language_info": {
      "codemirror_mode": {
        "name": "ipython",
        "version": 3
      },
      "file_extension": ".py",
      "mimetype": "text/x-python",
      "name": "python",
      "nbconvert_exporter": "python",
      "pygments_lexer": "ipython3",
      "version": "3.12.1"
    },
    "orig_nbformat": 2
  },
  "nbformat": 4,
  "nbformat_minor": 2
}
